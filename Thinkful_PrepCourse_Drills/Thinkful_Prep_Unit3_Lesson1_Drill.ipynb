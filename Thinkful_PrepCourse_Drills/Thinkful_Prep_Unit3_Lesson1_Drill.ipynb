{
 "cells": [
  {
   "cell_type": "code",
   "execution_count": 38,
   "metadata": {},
   "outputs": [],
   "source": [
    "import numpy as np\n",
    "import pandas as pd\n",
    "import statistics\n",
    "%matplotlib inline"
   ]
  },
  {
   "cell_type": "code",
   "execution_count": 39,
   "metadata": {},
   "outputs": [],
   "source": [
    "#Setting up the dataframe\n",
    "df = pd.DataFrame()\n",
    "df['age'] = [14, 12, 11, 10, 8, 6, 8]"
   ]
  },
  {
   "cell_type": "code",
   "execution_count": 40,
   "metadata": {
    "scrolled": true
   },
   "outputs": [
    {
     "name": "stdout",
     "output_type": "stream",
     "text": [
      "The mean is 9.857142857142858\n",
      "The median is 10.0\n",
      "The mode is 8\n",
      "The variance is 6.408163265306122\n",
      "The standard deviation is 2.531435020952764\n",
      "The standard error is 1.0334540197243192\n"
     ]
    }
   ],
   "source": [
    "#PROBLEM 1\n",
    "\n",
    "#Calculating the mean\n",
    "print('The mean is {}'.format(np.mean(df['age'])))\n",
    "\n",
    "#Calculating the median\n",
    "print('The median is {}'.format(np.median(df['age'])))\n",
    "\n",
    "#Calculating the mode\n",
    "(values, counts) = np.unique(df['age'], return_counts=True)\n",
    "ind = np.argmax(counts)\n",
    "print('The mode is {}'.format(values[ind]))\n",
    "\n",
    "#Calculating the variance\n",
    "print('The variance is {}'.format(np.var(df.age)))\n",
    "\n",
    "#Calculating the standard deviation\n",
    "#note: there are zero degrees of freedom since this is not a sample, it IS the total population.\n",
    "print('The standard deviation is {}'.format(np.std(df['age'], ddof=0)))\n",
    "\n",
    "#Calculating the standard error\n",
    "#note: I dont think this really measures anything. We have the full population here, not a sample.\n",
    "#there is no uncertainty in the mean to measure. I'll calcuate this with 1 dof since stardard error\n",
    "#makes no sense with zero degrees of freedom.\n",
    "print('The standard error is {}'.format(np.std(df['age'] ,ddof=1) / np.sqrt(len(df['age']))))"
   ]
  },
  {
   "cell_type": "markdown",
   "metadata": {},
   "source": [
    "Problem 2\n",
    "\n",
    "I would choose the median as my measure of central tendancy. The mean works well here too. If we had a small, skewed data set (for example, (2,3,6,7,34), the mean would not a good measure of central tendancy due to an extreme value being part of such a small data set. I would certanly not choose the mode. The mode is useful when there are lots of repeated data points in a set. Then the most repeated point may be close to the center. But here there is little data and only one repeated age. Thus, the mode is not a good measure of central tendancy. \n",
    "\n",
    "I would choose the standard deviation as my measure of variance. It seems it is the most commonly used measure. Thus, I would use it. I already mentioned why I feel standard error is not useful here. Here is what I said once more:\n",
    "\n",
    "I don't think this really measures anything. We have the full population here, not a sample.\n",
    "There is no uncertainty in the population mean to measure."
   ]
  },
  {
   "cell_type": "code",
   "execution_count": 44,
   "metadata": {},
   "outputs": [
    {
     "name": "stdout",
     "output_type": "stream",
     "text": [
      "The mean is 10.0\n",
      "The median is 10.0\n",
      "The mode is 8\n",
      "The variance is 5.428571428571429\n",
      "The standard deviation is 2.32992949004287\n",
      "The standard error is 0.9511897312113418\n"
     ]
    }
   ],
   "source": [
    "#Problem 3\n",
    "#Setting up the dataframe\n",
    "df_n = pd.DataFrame()\n",
    "df_n['age'] = [14, 12, 11, 10, 8, 7, 8]\n",
    "\n",
    "#Calculating the mean\n",
    "print('The mean is {}'.format(np.mean(df_n['age'])))\n",
    "\n",
    "#Calculating the median\n",
    "print('The median is {}'.format(np.median(df_n['age'])))\n",
    "\n",
    "#Calculating the mode\n",
    "print('The mode is {}'.format(statistics.mode(df_n['age'])))\n",
    "\n",
    "#Calculating the variance\n",
    "print('The variance is {}'.format(np.var(df_n.age)))\n",
    "\n",
    "#Calculating the standard deviation\n",
    "#note: there are zero degrees of freedom since this is not a sample, it IS the total population.\n",
    "print('The standard deviation is {}'.format(np.std(df_n['age'], ddof=0)))\n",
    "\n",
    "#Calculating the standard error\n",
    "#note: I dont think this really measures anything. We have the full population here, not a sample.\n",
    "#there is no uncertainty in the mean to measure. I'll calcuate this with 1 dof since stardard error\n",
    "#makes no sense with zero degrees of freedom.\n",
    "print('The standard error is {}'.format(np.std(df_n['age'] ,ddof=1) / np.sqrt(len(df_n['age']))))"
   ]
  },
  {
   "cell_type": "markdown",
   "metadata": {},
   "source": [
    "Now the mean and the median are exactly equal. Either is a good choice for central tendancy. The mode is still a poor choice for the same reason as the last problem. \n",
    "\n",
    "Again I will chose the standard deviation as my measure of deviation for the same reason. "
   ]
  },
  {
   "cell_type": "code",
   "execution_count": 42,
   "metadata": {},
   "outputs": [
    {
     "name": "stdout",
     "output_type": "stream",
     "text": [
      "The mean is 8.857142857142858\n",
      "The median is 10.0\n",
      "There is no mode :(\n",
      "The variance is 16.122448979591837\n",
      "The standard deviation is 4.015276949301485\n",
      "The standard error is 1.6392299502912862\n"
     ]
    }
   ],
   "source": [
    "#Problem 4\n",
    "#Setting up the dataframe\n",
    "dfn = pd.DataFrame()\n",
    "dfn['age'] = [14, 12, 11, 10, 8, 6, 1]\n",
    "\n",
    "#Calculating the mean\n",
    "print('The mean is {}'.format(np.mean(dfn['age'])))\n",
    "\n",
    "#Calculating the median\n",
    "print('The median is {}'.format(np.median(dfn['age'])))\n",
    "\n",
    "#Calculating the mode\n",
    "#print('The mode is {}'.format(statistics.mode(dfn['age'])))\n",
    "print('There is no mode :(')\n",
    "\n",
    "#Calculating the variance\n",
    "print('The variance is {}'.format(np.var(dfn.age)))\n",
    "\n",
    "#Calculating the standard deviation\n",
    "#note: there are zero degrees of freedom since this is not a sample, it IS the total population.\n",
    "print('The standard deviation is {}'.format(np.std(dfn['age'], ddof=0)))\n",
    "\n",
    "#Calculating the standard error\n",
    "#note: I dont think this really measures anything. We have the full population here, not a sample.\n",
    "#there is no uncertainty in the mean to measure. I'll calcuate this with 1 dof since stardard error\n",
    "#makes no sense with zero degrees of freedom.\n",
    "print('The standard error is {}'.format(np.std(dfn['age'] ,ddof=1) / np.sqrt(len(dfn['age']))))"
   ]
  },
  {
   "cell_type": "markdown",
   "metadata": {},
   "source": [
    "Problem 4\n",
    "\n",
    "Now the extreme value of 1 does affect the mean. I would now use the median as my measure of central tendancy. There is no repeated value... thus there is no mode.\n",
    "\n",
    "I will choose the standard deviation once again for the same reason."
   ]
  },
  {
   "cell_type": "code",
   "execution_count": 47,
   "metadata": {},
   "outputs": [
    {
     "name": "stdout",
     "output_type": "stream",
     "text": [
      "The mean is 16.25\n",
      "The median is 18.5\n",
      "There is no mode :(\n",
      "The variance is 62.25\n",
      "The standard deviation is 7.88986691902975\n",
      "The standard error is 3.944933459514875\n"
     ]
    }
   ],
   "source": [
    "#Problem 5\n",
    "#Setting up the dataframe\n",
    "dfnn = pd.DataFrame()\n",
    "dfnn['fans'] = [20, 23, 17, 5]\n",
    "\n",
    "#Calculating the mean\n",
    "print('The mean is {}'.format(np.mean(dfnn['fans'])))\n",
    "\n",
    "#Calculating the median\n",
    "print('The median is {}'.format(np.median(dfnn['fans'])))\n",
    "\n",
    "#Calculating the mode\n",
    "#print('The mode is {}'.format(statistics.mode(dfnn['fans'])))\n",
    "print('There is no mode :(')\n",
    "\n",
    "#Calculating the variance\n",
    "print('The variance is {}'.format(np.var(dfnn.fans, ddof=1)))\n",
    "\n",
    "#Calculating the standard deviation\n",
    "#note: there is one degrees of freedom now since this is a sample.\n",
    "print('The standard deviation is {}'.format(np.std(dfnn['fans'], ddof=1)))\n",
    "\n",
    "#Calculating the standard error\n",
    "print('The standard error is {}'.format(np.std(dfnn['fans'] ,ddof=1) / np.sqrt(len(dfnn['fans']))))"
   ]
  },
  {
   "cell_type": "markdown",
   "metadata": {},
   "source": [
    "I would use the median due the the extreme value of 5%. And I would use the std as before. However, we are using a sample and not the full population so ddof=1 this time. "
   ]
  },
  {
   "cell_type": "code",
   "execution_count": null,
   "metadata": {},
   "outputs": [],
   "source": []
  }
 ],
 "metadata": {
  "kernelspec": {
   "display_name": "Python 3",
   "language": "python",
   "name": "python3"
  },
  "language_info": {
   "codemirror_mode": {
    "name": "ipython",
    "version": 3
   },
   "file_extension": ".py",
   "mimetype": "text/x-python",
   "name": "python",
   "nbconvert_exporter": "python",
   "pygments_lexer": "ipython3",
   "version": "3.7.0"
  }
 },
 "nbformat": 4,
 "nbformat_minor": 2
}
